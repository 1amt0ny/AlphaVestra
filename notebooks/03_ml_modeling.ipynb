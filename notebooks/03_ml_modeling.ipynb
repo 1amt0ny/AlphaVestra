{
 "cells": [
  {
   "cell_type": "code",
   "execution_count": null,
   "metadata": {},
   "outputs": [],
   "source": [
    "# Cell 1: Setup & Imports\n",
    "import sys, os\n",
    "import pandas as pd\n",
    "import numpy as np\n",
    "import matplotlib.pyplot as plt\n",
    "\n",
    "# allow imports from src/\n",
    "sys.path.append(os.path.abspath(os.path.join(\"..\", \"src\")))\n",
    "\n",
    "from data.download_data import download_stock_data\n",
    "from strategies.ml_model import train_xgboost, evaluate_model  # will create these next"
   ]
  },
  {
   "cell_type": "code",
   "execution_count": null,
   "metadata": {},
   "outputs": [],
   "source": [
    "# Cell 2: Load data & features\n",
    "# Choose ticker & dates\n",
    "ticker     = \"JOBY\"\n",
    "start_date = \"2024-01-01\"\n",
    "end_date   = \"2024-06-30\"\n",
    "\n",
    "# Download or load from CSV\n",
    "df = download_stock_data(ticker, start_date, end_date, save_csv=True)\n",
    "\n",
    "# Basic feature engineering\n",
    "df[\"MA_10\"]    = df[\"Close\"].rolling(10).mean()\n",
    "df[\"MA_50\"]    = df[\"Close\"].rolling(50).mean()\n",
    "df[\"Return1\"]  = df[\"Close\"].pct_change(1)\n",
    "df[\"Return5\"]  = df[\"Close\"].pct_change(5)\n",
    "df[\"Volatility\"] = df[\"Close\"].rolling(10).std()\n",
    "\n",
    "# Target: will price close higher tomorrow?\n",
    "df[\"Target\"] = (df[\"Close\"].shift(-1) > df[\"Close\"]).astype(int)\n",
    "\n",
    "# Drop NaNs\n",
    "df.dropna(inplace=True)"
   ]
  },
  {
   "cell_type": "code",
   "execution_count": null,
   "metadata": {},
   "outputs": [],
   "source": [
    "# Cell 3: Train/test split\n",
    "# Split by date (time-series split)\n",
    "split_date = \"2024-05-01\"\n",
    "train = df[df[\"Date\"] < split_date]\n",
    "test  = df[df[\"Date\"] >= split_date]\n",
    "\n",
    "X_train = train[[\"MA_10\",\"MA_50\",\"Return1\",\"Return5\",\"Volatility\"]]\n",
    "y_train = train[\"Target\"]\n",
    "X_test  = test[[\"MA_10\",\"MA_50\",\"Return1\",\"Return5\",\"Volatility\"]]\n",
    "y_test  = test[\"Target\"]"
   ]
  },
  {
   "cell_type": "code",
   "execution_count": null,
   "metadata": {},
   "outputs": [],
   "source": [
    "# Cell 4: Model training\n",
    "import xgboost as xgb\n",
    "\n",
    "model = xgb.XGBClassifier(\n",
    "    n_estimators=100,\n",
    "    max_depth=3,\n",
    "    learning_rate=0.1,\n",
    "    use_label_encoder=False,\n",
    "    eval_metric=\"logloss\"\n",
    ")\n",
    "model.fit(X_train, y_train)"
   ]
  },
  {
   "cell_type": "code",
   "execution_count": null,
   "metadata": {},
   "outputs": [],
   "source": [
    "# Cell 5: Evaluation with Matplotlib-only confusion matrix\n",
    "from sklearn.metrics import accuracy_score, confusion_matrix, classification_report\n",
    "import matplotlib.pyplot as plt\n",
    "\n",
    "# Predictions & metrics\n",
    "y_pred = model.predict(X_test)\n",
    "print(\"Accuracy:\", accuracy_score(y_test, y_pred))\n",
    "print(classification_report(y_test, y_pred))\n",
    "\n",
    "# Confusion matrix data\n",
    "cm = confusion_matrix(y_test, y_pred)\n",
    "\n",
    "# Plot confusion matrix\n",
    "fig, ax = plt.subplots(figsize=(5, 5))\n",
    "im = ax.imshow(cm, interpolation='nearest', cmap='Blues')\n",
    "plt.colorbar(im, ax=ax)\n",
    "\n",
    "# Annotate cells with counts\n",
    "thresh = cm.max() / 2\n",
    "for i in range(cm.shape[0]):\n",
    "    for j in range(cm.shape[1]):\n",
    "        ax.text(j, i, cm[i, j],\n",
    "                ha=\"center\", va=\"center\",\n",
    "                color=\"white\" if cm[i, j] > thresh else \"black\")\n",
    "\n",
    "# Axis labels\n",
    "ax.set_xticks([0, 1])\n",
    "ax.set_yticks([0, 1])\n",
    "ax.set_xticklabels(['Pred 0', 'Pred 1'])\n",
    "ax.set_yticklabels(['True 0', 'True 1'])\n",
    "plt.ylabel('True label')\n",
    "plt.xlabel('Predicted label')\n",
    "plt.title('Confusion Matrix')\n",
    "plt.tight_layout()\n",
    "plt.show()"
   ]
  },
  {
   "cell_type": "code",
   "execution_count": null,
   "metadata": {},
   "outputs": [],
   "source": [
    "# Cell 6: Feature importance\n",
    "importances = model.feature_importances_\n",
    "feat_imp = pd.Series(importances, index=X_train.columns).sort_values(ascending=False)\n",
    "\n",
    "plt.figure(figsize=(8,4))\n",
    "feat_imp.plot.bar()\n",
    "plt.title(\"Feature Importances\")\n",
    "plt.show()"
   ]
  },
  {
   "cell_type": "code",
   "execution_count": null,
   "metadata": {},
   "outputs": [],
   "source": [
    "# Cell 7: Save model\n",
    "import joblib\n",
    "\n",
    "os.makedirs(\"models\", exist_ok=True)\n",
    "joblib.dump(model, f\"models/{ticker}_xgb_model.pkl\")\n",
    "print(\"Model saved.\")\n"
   ]
  }
 ],
 "metadata": {
  "kernelspec": {
   "display_name": ".venv",
   "language": "python",
   "name": "python3"
  },
  "language_info": {
   "codemirror_mode": {
    "name": "ipython",
    "version": 3
   },
   "file_extension": ".py",
   "mimetype": "text/x-python",
   "name": "python",
   "nbconvert_exporter": "python",
   "pygments_lexer": "ipython3",
   "version": "3.12.11"
  }
 },
 "nbformat": 4,
 "nbformat_minor": 2
}
