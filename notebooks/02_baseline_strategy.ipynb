{
 "cells": [
  {
   "cell_type": "code",
   "execution_count": null,
   "id": "bd2e9263",
   "metadata": {},
   "outputs": [],
   "source": [
    "# Cell 1: Imports & path setup\n",
    "import sys\n",
    "import os\n",
    "import pandas as pd\n",
    "import matplotlib.pyplot as plt\n",
    "\n",
    "# Ensure we can import download_stock_data\n",
    "sys.path.append(os.path.abspath(os.path.join(\"..\", \"src\")))\n",
    "\n",
    "from data.download_data import download_stock_data"
   ]
  },
  {
   "cell_type": "code",
   "execution_count": null,
   "id": "98db1bed",
   "metadata": {},
   "outputs": [],
   "source": [
    "# Cell 2: Choose a ticker and date range\n",
    "ticker = \"JOBY\"\n",
    "start_date = \"2024-01-01\"\n",
    "end_date   = \"2024-06-30\"\n",
    "\n",
    "# Download (or read from CSV if already saved)\n",
    "df = download_stock_data(ticker, start_date, end_date, save_csv=True)\n",
    "\n",
    "# If CSV exists already, you can also load directly:\n",
    "# df = pd.read_csv(f\"data/raw/{ticker}.csv\", parse_dates=[\"Date\"])\n",
    "\n",
    "# Quick check\n",
    "df.head()"
   ]
  },
  {
   "cell_type": "code",
   "execution_count": null,
   "id": "2e6db808",
   "metadata": {},
   "outputs": [],
   "source": [
    "# Cell 3: Calculate short and long moving averages\n",
    "# Typical choice: short = 20-day MA, long = 50-day MA\n",
    "df[\"MA_short\"] = df[\"Close\"].rolling(window=20).mean()\n",
    "df[\"MA_long\"]  = df[\"Close\"].rolling(window=50).mean()\n",
    "\n",
    "# Drop rows where MAs aren’t yet defined\n",
    "df.dropna(subset=[\"MA_short\", \"MA_long\"], inplace=True)\n",
    "\n",
    "# Preview\n",
    "df[[\"Date\", \"Close\", \"MA_short\", \"MA_long\"]].head()"
   ]
  },
  {
   "cell_type": "code",
   "execution_count": null,
   "id": "4fc38274",
   "metadata": {},
   "outputs": [],
   "source": [
    "# Cell 4: Create columns for signals\n",
    "# When MA_short crosses above MA_long → buy (1)\n",
    "# When MA_short crosses below MA_long → sell (-1)\n",
    "# Otherwise → 0 (hold)\n",
    "\n",
    "# Detect when short MA crosses above long MA → “buy”\n",
    "cross_up = (\n",
    "    (df[\"MA_short\"] > df[\"MA_long\"]) &\n",
    "    (df[\"MA_short\"].shift(1) <= df[\"MA_long\"].shift(1))\n",
    ")\n",
    "\n",
    "# Detect when short MA crosses below long MA → “sell”\n",
    "cross_down = (\n",
    "    (df[\"MA_short\"] < df[\"MA_long\"]) &\n",
    "    (df[\"MA_short\"].shift(1) >= df[\"MA_long\"].shift(1))\n",
    ")\n",
    "\n",
    "# Initialize position column\n",
    "df[\"position\"] = 0\n",
    "df.loc[cross_up,   \"position\"] = 1   # buy signal\n",
    "df.loc[cross_down, \"position\"] = -1  # sell signal\n",
    "\n",
    "# Preview the first few signals\n",
    "df.loc[cross_up | cross_down, [\"Date\", \"Close\", \"MA_short\", \"MA_long\", \"position\"]].head()\n",
    "\n",
    "# Identify buy/sell events\n",
    "buys  = df[df[\"position\"] == 1]\n",
    "sells = df[df[\"position\"] == -1]\n"
   ]
  },
  {
   "cell_type": "code",
   "execution_count": null,
   "id": "7371a0c2",
   "metadata": {},
   "outputs": [],
   "source": [
    "# Cell 5: Plot Close price, MAs, and markers for buy/sell\n",
    "plt.figure(figsize=(14, 6))\n",
    "plt.plot(df[\"Date\"], df[\"Close\"],  label=\"Close Price\", alpha=0.7)\n",
    "plt.plot(df[\"Date\"], df[\"MA_short\"], label=\"20-Day MA\", color=\"orange\")\n",
    "plt.plot(df[\"Date\"], df[\"MA_long\"],  label=\"50-Day MA\", color=\"purple\")\n",
    "\n",
    "# Mark buy points\n",
    "plt.scatter(buys[\"Date\"], buys[\"Close\"], marker=\"^\", color=\"green\", s=100, label=\"Buy Signal\")\n",
    "# Mark sell points\n",
    "plt.scatter(sells[\"Date\"], sells[\"Close\"], marker=\"v\", color=\"red\",   s=100, label=\"Sell Signal\")\n",
    "\n",
    "plt.title(f\"{ticker} 20-Day/50-Day MA Crossover\")\n",
    "plt.xlabel(\"Date\")\n",
    "plt.ylabel(\"Price (USD)\")\n",
    "plt.legend()\n",
    "plt.grid(True)\n",
    "plt.tight_layout()\n",
    "plt.show()"
   ]
  },
  {
   "cell_type": "code",
   "execution_count": null,
   "id": "049b3237",
   "metadata": {},
   "outputs": [],
   "source": [
    "# Cell 6: Simple backtest—track returns if we buy at next open after signal\n",
    "\n",
    "# Double-check the DataFrame is sorted by date, ensure chronological ordering and reset index\n",
    "df.sort_values(\"Date\", inplace=True)\n",
    "df.reset_index(drop=True, inplace=True)\n",
    "\n",
    "# Create a column for strategy returns\n",
    "df[\"returns\"] = df[\"Close\"].pct_change()  # daily market return\n",
    "df[\"strategy_returns\"] = 0.0\n",
    "\n",
    "# Simulate being “in position” between buy (1) and sell (–1) signals\n",
    "in_position = False\n",
    "for i in range(1, len(df)):\n",
    "    prev_pos = df.loc[i-1, \"position\"]\n",
    "    if prev_pos == 1:       # we got a buy signal yesterday\n",
    "        in_position = True\n",
    "    elif prev_pos == -1:    # we got a sell signal yesterday\n",
    "        in_position = False\n",
    "\n",
    "    if in_position:\n",
    "        # Earn the market return if we’re long\n",
    "        df.loc[i, \"strategy_returns\"] = df.loc[i, \"returns\"]\n",
    "\n",
    "\n",
    "# Compute cumulative returns\n",
    "df[\"cum_market\"]   = (1 + df[\"returns\"]).cumprod() - 1\n",
    "df[\"cum_strategy\"] = (1 + df[\"strategy_returns\"]).cumprod() - 1\n",
    "\n",
    "# Display the last few rows\n",
    "df[[\"Date\", \"Close\", \"position\", \"returns\", \"strategy_returns\", \"cum_market\", \"cum_strategy\"]].tail()"
   ]
  },
  {
   "cell_type": "code",
   "execution_count": null,
   "id": "fe6bb01c",
   "metadata": {},
   "outputs": [],
   "source": [
    "# Cell 7: Plot cumulative returns for both\n",
    "plt.figure(figsize=(12, 6))\n",
    "plt.plot(df[\"Date\"], df[\"cum_market\"],   label=\"Buy & Hold\", color=\"gray\")\n",
    "plt.plot(df[\"Date\"], df[\"cum_strategy\"], label=\"MA Crossover Strategy\", color=\"blue\")\n",
    "plt.title(f\"{ticker} Strategy vs Buy & Hold Performance\")\n",
    "plt.xlabel(\"Date\")\n",
    "plt.ylabel(\"Cumulative Return\")\n",
    "plt.legend()\n",
    "plt.grid(True)\n",
    "plt.tight_layout()\n",
    "plt.show()"
   ]
  }
 ],
 "metadata": {
  "kernelspec": {
   "display_name": ".venv",
   "language": "python",
   "name": "python3"
  },
  "language_info": {
   "codemirror_mode": {
    "name": "ipython",
    "version": 3
   },
   "file_extension": ".py",
   "mimetype": "text/x-python",
   "name": "python",
   "nbconvert_exporter": "python",
   "pygments_lexer": "ipython3",
   "version": "3.12.11"
  }
 },
 "nbformat": 4,
 "nbformat_minor": 5
}
