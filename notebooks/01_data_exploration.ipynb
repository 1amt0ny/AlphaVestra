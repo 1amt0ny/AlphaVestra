{
 "cells": [
  {
   "cell_type": "code",
   "execution_count": 1,
   "id": "ae1cdd3a",
   "metadata": {},
   "outputs": [],
   "source": [
    "import sys\n",
    "import os\n",
    "import pandas as pd\n",
    "import matplotlib.pyplot as plt\n",
    "\n",
    "# Add src/ to Python path\n",
    "sys.path.append(os.path.abspath(os.path.join(\"..\", \"src\")))\n",
    "\n",
    "# Import function\n",
    "from data.download_data import download_stock_data"
   ]
  },
  {
   "cell_type": "code",
   "execution_count": 2,
   "id": "fb1236b3",
   "metadata": {},
   "outputs": [
    {
     "name": "stderr",
     "output_type": "stream",
     "text": [
      "Failed to get ticker 'AAPL' reason: Failed to perform, curl: (60) SSL certificate problem: unable to get local issuer certificate. See https://curl.se/libcurl/c/libcurl-errors.html first for more details.\n",
      "[*********************100%***********************]  1 of 1 completed\n",
      "\n",
      "1 Failed download:\n",
      "['AAPL']: CertificateVerifyError('Failed to perform, curl: (60) SSL certificate problem: unable to get local issuer certificate. See https://curl.se/libcurl/c/libcurl-errors.html first for more details.')\n"
     ]
    },
    {
     "name": "stdout",
     "output_type": "stream",
     "text": [
      "Downloading AAPL from 2022-01-01 to 2023-01-01...\n",
      "YF.download() has changed argument auto_adjust default to True\n",
      "[!] No data found for AAPL.\n",
      "[!] Data download failed.\n"
     ]
    }
   ],
   "source": [
    "# Download stock data\n",
    "df = download_stock_data(\"AAPL\", \"2022-01-01\", \"2023-01-01\")\n",
    "\n",
    "if df is None:\n",
    "    print(\"[!] Data download failed.\")\n",
    "else:\n",
    "    print(f\"[✓] Data shape: {df.shape}\")\n",
    "    display(df.head())"
   ]
  },
  {
   "cell_type": "code",
   "execution_count": 3,
   "id": "99e1f909",
   "metadata": {},
   "outputs": [],
   "source": [
    "# Quick summary of the data\n",
    "if df is not None:\n",
    "    print(\"\\nData Summary:\")\n",
    "    display(df.describe())\n",
    "\n",
    "    print(\"\\nMissing Values:\")\n",
    "    print(df.isnull().sum())\n",
    "\n",
    "    print(\"\\nDate Range:\")\n",
    "    print(f\"From {df['Date'].iloc[0]} to {df['Date'].iloc[-1]}\")"
   ]
  },
  {
   "cell_type": "code",
   "execution_count": 4,
   "id": "faf9bafa",
   "metadata": {},
   "outputs": [],
   "source": [
    "# Plot the closing price\n",
    "if df is not None:\n",
    "    plt.figure(figsize=(12, 5))\n",
    "    plt.plot(df[\"Date\"], df[\"Close\"], label=\"Close Price\")\n",
    "    plt.title(\"AAPL Closing Price (2022)\")\n",
    "    plt.xlabel(\"Date\")\n",
    "    plt.ylabel(\"Price (USD)\")\n",
    "    plt.grid(True)\n",
    "    plt.legend()\n",
    "    plt.tight_layout()\n",
    "    plt.show()"
   ]
  }
 ],
 "metadata": {
  "kernelspec": {
   "display_name": ".venv",
   "language": "python",
   "name": "python3"
  },
  "language_info": {
   "codemirror_mode": {
    "name": "ipython",
    "version": 3
   },
   "file_extension": ".py",
   "mimetype": "text/x-python",
   "name": "python",
   "nbconvert_exporter": "python",
   "pygments_lexer": "ipython3",
   "version": "3.12.10"
  }
 },
 "nbformat": 4,
 "nbformat_minor": 5
}
