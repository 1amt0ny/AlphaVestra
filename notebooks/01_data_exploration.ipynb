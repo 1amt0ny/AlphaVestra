{
 "cells": [
  {
   "cell_type": "code",
   "execution_count": null,
   "id": "ae1cdd3a",
   "metadata": {},
   "outputs": [],
   "source": [
    "import sys\n",
    "import os\n",
    "import ssl\n",
    "import certifi\n",
    "import pandas as pd\n",
    "import matplotlib.pyplot as plt\n",
    "\n",
    "ssl._create_default_https_context = ssl._create_unverified_context\n",
    "\n",
    "# Add src/ to Python path\n",
    "# sys.path.append(os.path.abspath(os.path.join(\"..\", \"src\")))\n",
    "# Add the root of the project (not just src) to sys.path\n",
    "sys.path.append(os.path.abspath(\"..\"))\n",
    "\n",
    "os.environ['SSL_CERT_FILE'] = certifi.where()\n",
    "\n",
    "# Import function\n",
    "from src.data.download_data import download_stock_data"
   ]
  },
  {
   "cell_type": "code",
   "execution_count": null,
   "id": "fb1236b3",
   "metadata": {},
   "outputs": [],
   "source": [
    "# Download stock data\n",
    "\n",
    "# df = ticker.history(start=\"2022-01-01\", end=\"2023-01-01\")\n",
    "ticker = \"JOBY\"\n",
    "df = download_stock_data(ticker, \"2024-05-20\", \"2024-06-03\")\n",
    "\n",
    "if df is not None:\n",
    "    print(f\"[✓] Data shape: {df.shape}\")\n",
    "    display(df.head())\n",
    "else:\n",
    "    print(\"[!] Data download failed.\")\n",
    "\n",
    "# if df is None:\n",
    "#     print(\"[!] Data download failed.\")\n",
    "# else:\n",
    "#     print(f\"[✓] Data shape: {df.shape}\")\n",
    "#     display(df.head())"
   ]
  },
  {
   "cell_type": "code",
   "execution_count": null,
   "id": "99e1f909",
   "metadata": {},
   "outputs": [],
   "source": [
    "# Quick summary of the data\n",
    "if df is not None:\n",
    "    print(\"\\nData Summary:\")\n",
    "    display(df.describe())\n",
    "\n",
    "    print(\"\\nMissing Values:\")\n",
    "    print(df.isnull().sum())\n",
    "\n",
    "    print(\"\\nDate Range:\")\n",
    "    print(f\"From {df['Date'].iloc[0]} to {df['Date'].iloc[-1]}\")"
   ]
  },
  {
   "cell_type": "code",
   "execution_count": null,
   "id": "faf9bafa",
   "metadata": {},
   "outputs": [],
   "source": [
    "# Plot the closing price\n",
    "if df is not None:\n",
    "    plt.figure(figsize=(12, 5))\n",
    "    plt.plot(df[\"Date\"], df[\"Close\"], label=\"Close Price\")\n",
    "    # plt.title(\"Closing Price (2022)\")\n",
    "    plt.title(f\"{ticker} Closing Price ({df['Date'].iloc[0].date()} to {df['Date'].iloc[-1].date()})\")\n",
    "    plt.xlabel(\"Date\")\n",
    "    plt.ylabel(\"Price (USD)\")\n",
    "    plt.grid(True)\n",
    "    plt.legend()\n",
    "    plt.tight_layout()\n",
    "    plt.show()"
   ]
  },
  {
   "cell_type": "code",
   "execution_count": null,
   "id": "b71e37b9",
   "metadata": {},
   "outputs": [],
   "source": [
    "import sys\n",
    "print(sys.executable)"
   ]
  }
 ],
 "metadata": {
  "kernelspec": {
   "display_name": ".venv",
   "language": "python",
   "name": "python3"
  },
  "language_info": {
   "codemirror_mode": {
    "name": "ipython",
    "version": 3
   },
   "file_extension": ".py",
   "mimetype": "text/x-python",
   "name": "python",
   "nbconvert_exporter": "python",
   "pygments_lexer": "ipython3",
   "version": "3.12.11"
  }
 },
 "nbformat": 4,
 "nbformat_minor": 5
}
